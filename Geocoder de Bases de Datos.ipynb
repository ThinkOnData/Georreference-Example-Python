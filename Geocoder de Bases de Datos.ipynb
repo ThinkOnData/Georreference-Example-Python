{
 "cells": [
  {
   "cell_type": "markdown",
   "metadata": {},
   "source": [
    "# Geocoder de Bases de Datos\n",
    "\n",
    "por Kevin Martinez-Folgar,MD.<br/>\n",
    "*<kmartinezfolgar@gmail.com>*<br/>\n",
    "*<kmartinez@incap.int>*\n",
    "\n",
    "<hr/>"
   ]
  },
  {
   "cell_type": "markdown",
   "metadata": {},
   "source": [
    "Primero importamos la libreria que nos servira para geocodificar"
   ]
  },
  {
   "cell_type": "code",
   "execution_count": 1,
   "metadata": {},
   "outputs": [],
   "source": [
    "import geocoder as gc"
   ]
  },
  {
   "cell_type": "markdown",
   "metadata": {},
   "source": [
    "dentro de la libreria Geocoder tenemos funciones para cada uno de los geocodificadores más frecuentes. \n",
    "\n",
    "    ArcGIS\n",
    "    Baidu\n",
    "    Bing\n",
    "    CanadaPost\n",
    "    FreeGeoIP.net\n",
    "    Gaode\n",
    "    GeocodeFarm\n",
    "    Geocoder.ca\n",
    "    GeoNames\n",
    "    GeoOttawa\n",
    "    Google\n",
    "    HERE\n",
    "    IP Info.io\n",
    "    LocationIQ\n",
    "    Mapbox\n",
    "    MapQuest\n",
    "    MaxMind\n",
    "    Opencage\n",
    "    OpenStreetMap\n",
    "    Tamu\n",
    "    TomTom\n",
    "    What3Words\n",
    "    Yahoo\n",
    "    Yandex\n",
    "    TGOS\n",
    "\n",
    "En este caso utilizaremos ArcGIS"
   ]
  },
  {
   "cell_type": "code",
   "execution_count": 2,
   "metadata": {},
   "outputs": [
    {
     "data": {
      "text/plain": [
       "<[OK] Arcgis - Geocode [Zona 4, Guatemala]>"
      ]
     },
     "execution_count": 2,
     "metadata": {},
     "output_type": "execute_result"
    }
   ],
   "source": [
    "gc.arcgis(\"4 AVENIDA 06-63 CANTON EXPOSICION ZONA 4, Guatemala, Guatemala\")"
   ]
  },
  {
   "cell_type": "code",
   "execution_count": 3,
   "metadata": {},
   "outputs": [
    {
     "data": {
      "text/plain": [
       "<[OK] Arcgis - Geocode [Zona 4, Guatemala]>"
      ]
     },
     "execution_count": 3,
     "metadata": {},
     "output_type": "execute_result"
    }
   ],
   "source": [
    "var1 = gc.arcgis(\"4 AVENIDA 06-63 CANTON EXPOSICION ZONA 4, Guatemala, Guatemala\")\n",
    "var1"
   ]
  },
  {
   "cell_type": "code",
   "execution_count": 4,
   "metadata": {},
   "outputs": [
    {
     "data": {
      "text/plain": [
       "{'features': [{'bbox': [-90.52924272899998,\n",
       "    14.607440621000023,\n",
       "    -90.50524272899997,\n",
       "    14.631440621000024],\n",
       "   'geometry': {'coordinates': [-90.51724272899997, 14.619440621000024],\n",
       "    'type': 'Point'},\n",
       "   'properties': {'address': 'Zona 4, Guatemala',\n",
       "    'bbox': [-90.52924272899998,\n",
       "     14.607440621000023,\n",
       "     -90.50524272899997,\n",
       "     14.631440621000024],\n",
       "    'confidence': 7,\n",
       "    'lat': 14.619440621000024,\n",
       "    'lng': -90.51724272899997,\n",
       "    'ok': True,\n",
       "    'quality': 'Locality',\n",
       "    'raw': {'extent': {'xmax': -90.50524272899997,\n",
       "      'xmin': -90.52924272899998,\n",
       "      'ymax': 14.631440621000024,\n",
       "      'ymin': 14.607440621000023},\n",
       "     'feature': {'attributes': {'Addr_Type': 'Locality', 'Score': 80},\n",
       "      'geometry': {'x': -90.51724272899997, 'y': 14.619440621000024}},\n",
       "     'name': 'Zona 4, Guatemala'},\n",
       "    'score': 80,\n",
       "    'status': 'OK'},\n",
       "   'type': 'Feature'}],\n",
       " 'type': 'FeatureCollection'}"
      ]
     },
     "execution_count": 4,
     "metadata": {},
     "output_type": "execute_result"
    }
   ],
   "source": [
    "var1.geojson"
   ]
  },
  {
   "cell_type": "code",
   "execution_count": 5,
   "metadata": {},
   "outputs": [
    {
     "data": {
      "text/plain": [
       "{'address': 'Zona 4, Guatemala',\n",
       " 'bbox': [-90.52924272899998,\n",
       "  14.607440621000023,\n",
       "  -90.50524272899997,\n",
       "  14.631440621000024],\n",
       " 'confidence': 7,\n",
       " 'lat': 14.619440621000024,\n",
       " 'lng': -90.51724272899997,\n",
       " 'ok': True,\n",
       " 'quality': 'Locality',\n",
       " 'raw': {'extent': {'xmax': -90.50524272899997,\n",
       "   'xmin': -90.52924272899998,\n",
       "   'ymax': 14.631440621000024,\n",
       "   'ymin': 14.607440621000023},\n",
       "  'feature': {'attributes': {'Addr_Type': 'Locality', 'Score': 80},\n",
       "   'geometry': {'x': -90.51724272899997, 'y': 14.619440621000024}},\n",
       "  'name': 'Zona 4, Guatemala'},\n",
       " 'score': 80,\n",
       " 'status': 'OK'}"
      ]
     },
     "execution_count": 5,
     "metadata": {},
     "output_type": "execute_result"
    }
   ],
   "source": [
    "var1.json"
   ]
  },
  {
   "cell_type": "code",
   "execution_count": 6,
   "metadata": {},
   "outputs": [
    {
     "data": {
      "text/plain": [
       "{'extent': {'xmax': -90.50524272899997,\n",
       "  'xmin': -90.52924272899998,\n",
       "  'ymax': 14.631440621000024,\n",
       "  'ymin': 14.607440621000023},\n",
       " 'feature': {'attributes': {'Addr_Type': 'Locality', 'Score': 80},\n",
       "  'geometry': {'x': -90.51724272899997, 'y': 14.619440621000024}},\n",
       " 'name': 'Zona 4, Guatemala'}"
      ]
     },
     "execution_count": 6,
     "metadata": {},
     "output_type": "execute_result"
    }
   ],
   "source": [
    "var1.json[\"raw\"]"
   ]
  },
  {
   "cell_type": "code",
   "execution_count": 7,
   "metadata": {},
   "outputs": [
    {
     "data": {
      "text/plain": [
       "{'attributes': {'Addr_Type': 'Locality', 'Score': 80},\n",
       " 'geometry': {'x': -90.51724272899997, 'y': 14.619440621000024}}"
      ]
     },
     "execution_count": 7,
     "metadata": {},
     "output_type": "execute_result"
    }
   ],
   "source": [
    "var1.json[\"raw\"][\"feature\"]"
   ]
  },
  {
   "cell_type": "code",
   "execution_count": 8,
   "metadata": {},
   "outputs": [
    {
     "data": {
      "text/plain": [
       "{'x': -90.51724272899997, 'y': 14.619440621000024}"
      ]
     },
     "execution_count": 8,
     "metadata": {},
     "output_type": "execute_result"
    }
   ],
   "source": [
    "var1.json[\"raw\"][\"feature\"][\"geometry\"]"
   ]
  },
  {
   "cell_type": "code",
   "execution_count": 9,
   "metadata": {},
   "outputs": [
    {
     "data": {
      "text/plain": [
       "14.619440621000024"
      ]
     },
     "execution_count": 9,
     "metadata": {},
     "output_type": "execute_result"
    }
   ],
   "source": [
    "var1.json[\"raw\"][\"feature\"][\"geometry\"][\"y\"]"
   ]
  },
  {
   "cell_type": "code",
   "execution_count": 10,
   "metadata": {},
   "outputs": [
    {
     "data": {
      "text/plain": [
       "-90.51724272899997"
      ]
     },
     "execution_count": 10,
     "metadata": {},
     "output_type": "execute_result"
    }
   ],
   "source": [
    "var1.json[\"raw\"][\"feature\"][\"geometry\"][\"x\"]"
   ]
  },
  {
   "cell_type": "markdown",
   "metadata": {},
   "source": [
    "### Abrimos la Base de datos a utilizar"
   ]
  },
  {
   "cell_type": "code",
   "execution_count": 11,
   "metadata": {},
   "outputs": [
    {
     "data": {
      "text/plain": [
       "'Direcciones Guatemala - Ejercicio Geocoder.xlsx'"
      ]
     },
     "execution_count": 11,
     "metadata": {},
     "output_type": "execute_result"
    }
   ],
   "source": [
    "#import tkinter.filedialog as fd\n",
    "#db = fd.askopenfilename()\n",
    "db = \"Direcciones Guatemala - Ejercicio Geocoder.xlsx\"\n",
    "db"
   ]
  },
  {
   "cell_type": "code",
   "execution_count": 12,
   "metadata": {},
   "outputs": [],
   "source": [
    "import pandas as pd"
   ]
  },
  {
   "cell_type": "code",
   "execution_count": 13,
   "metadata": {},
   "outputs": [
    {
     "data": {
      "text/html": [
       "<div>\n",
       "<style>\n",
       "    .dataframe thead tr:only-child th {\n",
       "        text-align: right;\n",
       "    }\n",
       "\n",
       "    .dataframe thead th {\n",
       "        text-align: left;\n",
       "    }\n",
       "\n",
       "    .dataframe tbody tr th {\n",
       "        vertical-align: top;\n",
       "    }\n",
       "</style>\n",
       "<table border=\"1\" class=\"dataframe\">\n",
       "  <thead>\n",
       "    <tr style=\"text-align: right;\">\n",
       "      <th></th>\n",
       "      <th>ID</th>\n",
       "      <th>Dirección</th>\n",
       "    </tr>\n",
       "  </thead>\n",
       "  <tbody>\n",
       "    <tr>\n",
       "      <th>0</th>\n",
       "      <td>1</td>\n",
       "      <td>4 AVENIDA 06-63 CANTON EXPOSICION ZONA 4</td>\n",
       "    </tr>\n",
       "    <tr>\n",
       "      <th>1</th>\n",
       "      <td>2</td>\n",
       "      <td>RUTA 8 04-51 CANTON EXPOSICION ZONA 4</td>\n",
       "    </tr>\n",
       "    <tr>\n",
       "      <th>2</th>\n",
       "      <td>3</td>\n",
       "      <td>2 CALLE 11-12 BARRIO MODERNO ZONA 2</td>\n",
       "    </tr>\n",
       "    <tr>\n",
       "      <th>3</th>\n",
       "      <td>4</td>\n",
       "      <td>4 AVENIDA 06-63 CANTON EXPOSICION ZONA 4</td>\n",
       "    </tr>\n",
       "    <tr>\n",
       "      <th>4</th>\n",
       "      <td>5</td>\n",
       "      <td>RUTA 8 04-51 CANTON EXPOSICION ZONA 4</td>\n",
       "    </tr>\n",
       "    <tr>\n",
       "      <th>5</th>\n",
       "      <td>6</td>\n",
       "      <td>2 CALLE 11-12 BARRIO MODERNO ZONA 2</td>\n",
       "    </tr>\n",
       "    <tr>\n",
       "      <th>6</th>\n",
       "      <td>7</td>\n",
       "      <td>4 AVENIDA 06-63 CANTON EXPOSICION ZONA 4</td>\n",
       "    </tr>\n",
       "    <tr>\n",
       "      <th>7</th>\n",
       "      <td>8</td>\n",
       "      <td>RUTA 8 04-51 CANTON EXPOSICION ZONA 4</td>\n",
       "    </tr>\n",
       "    <tr>\n",
       "      <th>8</th>\n",
       "      <td>9</td>\n",
       "      <td>2 CALLE 11-12 BARRIO MODERNO ZONA 2</td>\n",
       "    </tr>\n",
       "  </tbody>\n",
       "</table>\n",
       "</div>"
      ],
      "text/plain": [
       "   ID                                 Dirección\n",
       "0   1  4 AVENIDA 06-63 CANTON EXPOSICION ZONA 4\n",
       "1   2     RUTA 8 04-51 CANTON EXPOSICION ZONA 4\n",
       "2   3       2 CALLE 11-12 BARRIO MODERNO ZONA 2\n",
       "3   4  4 AVENIDA 06-63 CANTON EXPOSICION ZONA 4\n",
       "4   5     RUTA 8 04-51 CANTON EXPOSICION ZONA 4\n",
       "5   6       2 CALLE 11-12 BARRIO MODERNO ZONA 2\n",
       "6   7  4 AVENIDA 06-63 CANTON EXPOSICION ZONA 4\n",
       "7   8     RUTA 8 04-51 CANTON EXPOSICION ZONA 4\n",
       "8   9       2 CALLE 11-12 BARRIO MODERNO ZONA 2"
      ]
     },
     "execution_count": 13,
     "metadata": {},
     "output_type": "execute_result"
    }
   ],
   "source": [
    "db1 = pd.read_excel(db)\n",
    "db1"
   ]
  },
  {
   "cell_type": "markdown",
   "metadata": {},
   "source": [
    "Le agregamos municipio y pais "
   ]
  },
  {
   "cell_type": "code",
   "execution_count": 14,
   "metadata": {},
   "outputs": [],
   "source": [
    "db1[\"Municipio\"] = \"Guatemala\""
   ]
  },
  {
   "cell_type": "code",
   "execution_count": 15,
   "metadata": {},
   "outputs": [],
   "source": [
    "db1[\"Pais\"] = \"Guatemala\""
   ]
  },
  {
   "cell_type": "code",
   "execution_count": 16,
   "metadata": {},
   "outputs": [
    {
     "data": {
      "text/html": [
       "<div>\n",
       "<style>\n",
       "    .dataframe thead tr:only-child th {\n",
       "        text-align: right;\n",
       "    }\n",
       "\n",
       "    .dataframe thead th {\n",
       "        text-align: left;\n",
       "    }\n",
       "\n",
       "    .dataframe tbody tr th {\n",
       "        vertical-align: top;\n",
       "    }\n",
       "</style>\n",
       "<table border=\"1\" class=\"dataframe\">\n",
       "  <thead>\n",
       "    <tr style=\"text-align: right;\">\n",
       "      <th></th>\n",
       "      <th>ID</th>\n",
       "      <th>Dirección</th>\n",
       "      <th>Municipio</th>\n",
       "      <th>Pais</th>\n",
       "    </tr>\n",
       "  </thead>\n",
       "  <tbody>\n",
       "    <tr>\n",
       "      <th>0</th>\n",
       "      <td>1</td>\n",
       "      <td>4 AVENIDA 06-63 CANTON EXPOSICION ZONA 4</td>\n",
       "      <td>Guatemala</td>\n",
       "      <td>Guatemala</td>\n",
       "    </tr>\n",
       "    <tr>\n",
       "      <th>1</th>\n",
       "      <td>2</td>\n",
       "      <td>RUTA 8 04-51 CANTON EXPOSICION ZONA 4</td>\n",
       "      <td>Guatemala</td>\n",
       "      <td>Guatemala</td>\n",
       "    </tr>\n",
       "    <tr>\n",
       "      <th>2</th>\n",
       "      <td>3</td>\n",
       "      <td>2 CALLE 11-12 BARRIO MODERNO ZONA 2</td>\n",
       "      <td>Guatemala</td>\n",
       "      <td>Guatemala</td>\n",
       "    </tr>\n",
       "    <tr>\n",
       "      <th>3</th>\n",
       "      <td>4</td>\n",
       "      <td>4 AVENIDA 06-63 CANTON EXPOSICION ZONA 4</td>\n",
       "      <td>Guatemala</td>\n",
       "      <td>Guatemala</td>\n",
       "    </tr>\n",
       "    <tr>\n",
       "      <th>4</th>\n",
       "      <td>5</td>\n",
       "      <td>RUTA 8 04-51 CANTON EXPOSICION ZONA 4</td>\n",
       "      <td>Guatemala</td>\n",
       "      <td>Guatemala</td>\n",
       "    </tr>\n",
       "    <tr>\n",
       "      <th>5</th>\n",
       "      <td>6</td>\n",
       "      <td>2 CALLE 11-12 BARRIO MODERNO ZONA 2</td>\n",
       "      <td>Guatemala</td>\n",
       "      <td>Guatemala</td>\n",
       "    </tr>\n",
       "    <tr>\n",
       "      <th>6</th>\n",
       "      <td>7</td>\n",
       "      <td>4 AVENIDA 06-63 CANTON EXPOSICION ZONA 4</td>\n",
       "      <td>Guatemala</td>\n",
       "      <td>Guatemala</td>\n",
       "    </tr>\n",
       "    <tr>\n",
       "      <th>7</th>\n",
       "      <td>8</td>\n",
       "      <td>RUTA 8 04-51 CANTON EXPOSICION ZONA 4</td>\n",
       "      <td>Guatemala</td>\n",
       "      <td>Guatemala</td>\n",
       "    </tr>\n",
       "    <tr>\n",
       "      <th>8</th>\n",
       "      <td>9</td>\n",
       "      <td>2 CALLE 11-12 BARRIO MODERNO ZONA 2</td>\n",
       "      <td>Guatemala</td>\n",
       "      <td>Guatemala</td>\n",
       "    </tr>\n",
       "  </tbody>\n",
       "</table>\n",
       "</div>"
      ],
      "text/plain": [
       "   ID                                 Dirección  Municipio       Pais\n",
       "0   1  4 AVENIDA 06-63 CANTON EXPOSICION ZONA 4  Guatemala  Guatemala\n",
       "1   2     RUTA 8 04-51 CANTON EXPOSICION ZONA 4  Guatemala  Guatemala\n",
       "2   3       2 CALLE 11-12 BARRIO MODERNO ZONA 2  Guatemala  Guatemala\n",
       "3   4  4 AVENIDA 06-63 CANTON EXPOSICION ZONA 4  Guatemala  Guatemala\n",
       "4   5     RUTA 8 04-51 CANTON EXPOSICION ZONA 4  Guatemala  Guatemala\n",
       "5   6       2 CALLE 11-12 BARRIO MODERNO ZONA 2  Guatemala  Guatemala\n",
       "6   7  4 AVENIDA 06-63 CANTON EXPOSICION ZONA 4  Guatemala  Guatemala\n",
       "7   8     RUTA 8 04-51 CANTON EXPOSICION ZONA 4  Guatemala  Guatemala\n",
       "8   9       2 CALLE 11-12 BARRIO MODERNO ZONA 2  Guatemala  Guatemala"
      ]
     },
     "execution_count": 16,
     "metadata": {},
     "output_type": "execute_result"
    }
   ],
   "source": [
    "db1"
   ]
  },
  {
   "cell_type": "markdown",
   "metadata": {},
   "source": [
    "Unimos la dirección para poder Georreferenciar luego "
   ]
  },
  {
   "cell_type": "code",
   "execution_count": 17,
   "metadata": {},
   "outputs": [],
   "source": [
    "db1[\"Direccion Total\"] = db1[\"Dirección\"] + \", \" + db1[\"Municipio\"] + \",\" + db1[\"Pais\"]"
   ]
  },
  {
   "cell_type": "code",
   "execution_count": 18,
   "metadata": {},
   "outputs": [
    {
     "data": {
      "text/html": [
       "<div>\n",
       "<style>\n",
       "    .dataframe thead tr:only-child th {\n",
       "        text-align: right;\n",
       "    }\n",
       "\n",
       "    .dataframe thead th {\n",
       "        text-align: left;\n",
       "    }\n",
       "\n",
       "    .dataframe tbody tr th {\n",
       "        vertical-align: top;\n",
       "    }\n",
       "</style>\n",
       "<table border=\"1\" class=\"dataframe\">\n",
       "  <thead>\n",
       "    <tr style=\"text-align: right;\">\n",
       "      <th></th>\n",
       "      <th>ID</th>\n",
       "      <th>Dirección</th>\n",
       "      <th>Municipio</th>\n",
       "      <th>Pais</th>\n",
       "      <th>Direccion Total</th>\n",
       "    </tr>\n",
       "  </thead>\n",
       "  <tbody>\n",
       "    <tr>\n",
       "      <th>0</th>\n",
       "      <td>1</td>\n",
       "      <td>4 AVENIDA 06-63 CANTON EXPOSICION ZONA 4</td>\n",
       "      <td>Guatemala</td>\n",
       "      <td>Guatemala</td>\n",
       "      <td>4 AVENIDA 06-63 CANTON EXPOSICION ZONA 4, Guat...</td>\n",
       "    </tr>\n",
       "    <tr>\n",
       "      <th>1</th>\n",
       "      <td>2</td>\n",
       "      <td>RUTA 8 04-51 CANTON EXPOSICION ZONA 4</td>\n",
       "      <td>Guatemala</td>\n",
       "      <td>Guatemala</td>\n",
       "      <td>RUTA 8 04-51 CANTON EXPOSICION ZONA 4, Guatema...</td>\n",
       "    </tr>\n",
       "    <tr>\n",
       "      <th>2</th>\n",
       "      <td>3</td>\n",
       "      <td>2 CALLE 11-12 BARRIO MODERNO ZONA 2</td>\n",
       "      <td>Guatemala</td>\n",
       "      <td>Guatemala</td>\n",
       "      <td>2 CALLE 11-12 BARRIO MODERNO ZONA 2, Guatemala...</td>\n",
       "    </tr>\n",
       "    <tr>\n",
       "      <th>3</th>\n",
       "      <td>4</td>\n",
       "      <td>4 AVENIDA 06-63 CANTON EXPOSICION ZONA 4</td>\n",
       "      <td>Guatemala</td>\n",
       "      <td>Guatemala</td>\n",
       "      <td>4 AVENIDA 06-63 CANTON EXPOSICION ZONA 4, Guat...</td>\n",
       "    </tr>\n",
       "    <tr>\n",
       "      <th>4</th>\n",
       "      <td>5</td>\n",
       "      <td>RUTA 8 04-51 CANTON EXPOSICION ZONA 4</td>\n",
       "      <td>Guatemala</td>\n",
       "      <td>Guatemala</td>\n",
       "      <td>RUTA 8 04-51 CANTON EXPOSICION ZONA 4, Guatema...</td>\n",
       "    </tr>\n",
       "    <tr>\n",
       "      <th>5</th>\n",
       "      <td>6</td>\n",
       "      <td>2 CALLE 11-12 BARRIO MODERNO ZONA 2</td>\n",
       "      <td>Guatemala</td>\n",
       "      <td>Guatemala</td>\n",
       "      <td>2 CALLE 11-12 BARRIO MODERNO ZONA 2, Guatemala...</td>\n",
       "    </tr>\n",
       "    <tr>\n",
       "      <th>6</th>\n",
       "      <td>7</td>\n",
       "      <td>4 AVENIDA 06-63 CANTON EXPOSICION ZONA 4</td>\n",
       "      <td>Guatemala</td>\n",
       "      <td>Guatemala</td>\n",
       "      <td>4 AVENIDA 06-63 CANTON EXPOSICION ZONA 4, Guat...</td>\n",
       "    </tr>\n",
       "    <tr>\n",
       "      <th>7</th>\n",
       "      <td>8</td>\n",
       "      <td>RUTA 8 04-51 CANTON EXPOSICION ZONA 4</td>\n",
       "      <td>Guatemala</td>\n",
       "      <td>Guatemala</td>\n",
       "      <td>RUTA 8 04-51 CANTON EXPOSICION ZONA 4, Guatema...</td>\n",
       "    </tr>\n",
       "    <tr>\n",
       "      <th>8</th>\n",
       "      <td>9</td>\n",
       "      <td>2 CALLE 11-12 BARRIO MODERNO ZONA 2</td>\n",
       "      <td>Guatemala</td>\n",
       "      <td>Guatemala</td>\n",
       "      <td>2 CALLE 11-12 BARRIO MODERNO ZONA 2, Guatemala...</td>\n",
       "    </tr>\n",
       "  </tbody>\n",
       "</table>\n",
       "</div>"
      ],
      "text/plain": [
       "   ID                                 Dirección  Municipio       Pais  \\\n",
       "0   1  4 AVENIDA 06-63 CANTON EXPOSICION ZONA 4  Guatemala  Guatemala   \n",
       "1   2     RUTA 8 04-51 CANTON EXPOSICION ZONA 4  Guatemala  Guatemala   \n",
       "2   3       2 CALLE 11-12 BARRIO MODERNO ZONA 2  Guatemala  Guatemala   \n",
       "3   4  4 AVENIDA 06-63 CANTON EXPOSICION ZONA 4  Guatemala  Guatemala   \n",
       "4   5     RUTA 8 04-51 CANTON EXPOSICION ZONA 4  Guatemala  Guatemala   \n",
       "5   6       2 CALLE 11-12 BARRIO MODERNO ZONA 2  Guatemala  Guatemala   \n",
       "6   7  4 AVENIDA 06-63 CANTON EXPOSICION ZONA 4  Guatemala  Guatemala   \n",
       "7   8     RUTA 8 04-51 CANTON EXPOSICION ZONA 4  Guatemala  Guatemala   \n",
       "8   9       2 CALLE 11-12 BARRIO MODERNO ZONA 2  Guatemala  Guatemala   \n",
       "\n",
       "                                     Direccion Total  \n",
       "0  4 AVENIDA 06-63 CANTON EXPOSICION ZONA 4, Guat...  \n",
       "1  RUTA 8 04-51 CANTON EXPOSICION ZONA 4, Guatema...  \n",
       "2  2 CALLE 11-12 BARRIO MODERNO ZONA 2, Guatemala...  \n",
       "3  4 AVENIDA 06-63 CANTON EXPOSICION ZONA 4, Guat...  \n",
       "4  RUTA 8 04-51 CANTON EXPOSICION ZONA 4, Guatema...  \n",
       "5  2 CALLE 11-12 BARRIO MODERNO ZONA 2, Guatemala...  \n",
       "6  4 AVENIDA 06-63 CANTON EXPOSICION ZONA 4, Guat...  \n",
       "7  RUTA 8 04-51 CANTON EXPOSICION ZONA 4, Guatema...  \n",
       "8  2 CALLE 11-12 BARRIO MODERNO ZONA 2, Guatemala...  "
      ]
     },
     "execution_count": 18,
     "metadata": {},
     "output_type": "execute_result"
    }
   ],
   "source": [
    "db1"
   ]
  },
  {
   "cell_type": "markdown",
   "metadata": {},
   "source": [
    "Ahora vamos a crear 2 listas vacias a las que posteriormente vamos a agregar cada una de las latitudes y longitudes"
   ]
  },
  {
   "cell_type": "code",
   "execution_count": 19,
   "metadata": {},
   "outputs": [],
   "source": [
    "lat = []\n",
    "lon = []\n",
    "addres_geocode = []\n",
    "db2 = db1[\"Direccion Total\"].copy()\n",
    "for row in db2:\n",
    "    temp1 = gc.arcgis(row)\n",
    "    lat.append(temp1.json[\"raw\"][\"feature\"][\"geometry\"][\"y\"])\n",
    "    lon.append(temp1.json[\"raw\"][\"feature\"][\"geometry\"][\"x\"])\n",
    "    addres_geocode.append(temp1.json[\"address\"])"
   ]
  },
  {
   "cell_type": "markdown",
   "metadata": {},
   "source": [
    "Ahora asignamos la latitud y la longitud a columnas dentro de nuestra base de datos"
   ]
  },
  {
   "cell_type": "code",
   "execution_count": 20,
   "metadata": {},
   "outputs": [
    {
     "data": {
      "text/html": [
       "<div>\n",
       "<style>\n",
       "    .dataframe thead tr:only-child th {\n",
       "        text-align: right;\n",
       "    }\n",
       "\n",
       "    .dataframe thead th {\n",
       "        text-align: left;\n",
       "    }\n",
       "\n",
       "    .dataframe tbody tr th {\n",
       "        vertical-align: top;\n",
       "    }\n",
       "</style>\n",
       "<table border=\"1\" class=\"dataframe\">\n",
       "  <thead>\n",
       "    <tr style=\"text-align: right;\">\n",
       "      <th></th>\n",
       "      <th>ID</th>\n",
       "      <th>Dirección</th>\n",
       "      <th>Municipio</th>\n",
       "      <th>Pais</th>\n",
       "      <th>Direccion Total</th>\n",
       "      <th>latitud</th>\n",
       "      <th>longitud</th>\n",
       "      <th>direccion supuesta</th>\n",
       "    </tr>\n",
       "  </thead>\n",
       "  <tbody>\n",
       "    <tr>\n",
       "      <th>0</th>\n",
       "      <td>1</td>\n",
       "      <td>4 AVENIDA 06-63 CANTON EXPOSICION ZONA 4</td>\n",
       "      <td>Guatemala</td>\n",
       "      <td>Guatemala</td>\n",
       "      <td>4 AVENIDA 06-63 CANTON EXPOSICION ZONA 4, Guat...</td>\n",
       "      <td>14.619441</td>\n",
       "      <td>-90.517243</td>\n",
       "      <td>Zona 4, Guatemala</td>\n",
       "    </tr>\n",
       "    <tr>\n",
       "      <th>1</th>\n",
       "      <td>2</td>\n",
       "      <td>RUTA 8 04-51 CANTON EXPOSICION ZONA 4</td>\n",
       "      <td>Guatemala</td>\n",
       "      <td>Guatemala</td>\n",
       "      <td>RUTA 8 04-51 CANTON EXPOSICION ZONA 4, Guatema...</td>\n",
       "      <td>14.619441</td>\n",
       "      <td>-90.517243</td>\n",
       "      <td>Zona 4, Guatemala</td>\n",
       "    </tr>\n",
       "    <tr>\n",
       "      <th>2</th>\n",
       "      <td>3</td>\n",
       "      <td>2 CALLE 11-12 BARRIO MODERNO ZONA 2</td>\n",
       "      <td>Guatemala</td>\n",
       "      <td>Guatemala</td>\n",
       "      <td>2 CALLE 11-12 BARRIO MODERNO ZONA 2, Guatemala...</td>\n",
       "      <td>14.648776</td>\n",
       "      <td>-90.506982</td>\n",
       "      <td>2 Calle 11-12, Zona 2, Guatemala</td>\n",
       "    </tr>\n",
       "    <tr>\n",
       "      <th>3</th>\n",
       "      <td>4</td>\n",
       "      <td>4 AVENIDA 06-63 CANTON EXPOSICION ZONA 4</td>\n",
       "      <td>Guatemala</td>\n",
       "      <td>Guatemala</td>\n",
       "      <td>4 AVENIDA 06-63 CANTON EXPOSICION ZONA 4, Guat...</td>\n",
       "      <td>14.619441</td>\n",
       "      <td>-90.517243</td>\n",
       "      <td>Zona 4, Guatemala</td>\n",
       "    </tr>\n",
       "    <tr>\n",
       "      <th>4</th>\n",
       "      <td>5</td>\n",
       "      <td>RUTA 8 04-51 CANTON EXPOSICION ZONA 4</td>\n",
       "      <td>Guatemala</td>\n",
       "      <td>Guatemala</td>\n",
       "      <td>RUTA 8 04-51 CANTON EXPOSICION ZONA 4, Guatema...</td>\n",
       "      <td>14.619441</td>\n",
       "      <td>-90.517243</td>\n",
       "      <td>Zona 4, Guatemala</td>\n",
       "    </tr>\n",
       "    <tr>\n",
       "      <th>5</th>\n",
       "      <td>6</td>\n",
       "      <td>2 CALLE 11-12 BARRIO MODERNO ZONA 2</td>\n",
       "      <td>Guatemala</td>\n",
       "      <td>Guatemala</td>\n",
       "      <td>2 CALLE 11-12 BARRIO MODERNO ZONA 2, Guatemala...</td>\n",
       "      <td>14.648776</td>\n",
       "      <td>-90.506982</td>\n",
       "      <td>2 Calle 11-12, Zona 2, Guatemala</td>\n",
       "    </tr>\n",
       "    <tr>\n",
       "      <th>6</th>\n",
       "      <td>7</td>\n",
       "      <td>4 AVENIDA 06-63 CANTON EXPOSICION ZONA 4</td>\n",
       "      <td>Guatemala</td>\n",
       "      <td>Guatemala</td>\n",
       "      <td>4 AVENIDA 06-63 CANTON EXPOSICION ZONA 4, Guat...</td>\n",
       "      <td>14.619441</td>\n",
       "      <td>-90.517243</td>\n",
       "      <td>Zona 4, Guatemala</td>\n",
       "    </tr>\n",
       "    <tr>\n",
       "      <th>7</th>\n",
       "      <td>8</td>\n",
       "      <td>RUTA 8 04-51 CANTON EXPOSICION ZONA 4</td>\n",
       "      <td>Guatemala</td>\n",
       "      <td>Guatemala</td>\n",
       "      <td>RUTA 8 04-51 CANTON EXPOSICION ZONA 4, Guatema...</td>\n",
       "      <td>14.619441</td>\n",
       "      <td>-90.517243</td>\n",
       "      <td>Zona 4, Guatemala</td>\n",
       "    </tr>\n",
       "    <tr>\n",
       "      <th>8</th>\n",
       "      <td>9</td>\n",
       "      <td>2 CALLE 11-12 BARRIO MODERNO ZONA 2</td>\n",
       "      <td>Guatemala</td>\n",
       "      <td>Guatemala</td>\n",
       "      <td>2 CALLE 11-12 BARRIO MODERNO ZONA 2, Guatemala...</td>\n",
       "      <td>14.648776</td>\n",
       "      <td>-90.506982</td>\n",
       "      <td>2 Calle 11-12, Zona 2, Guatemala</td>\n",
       "    </tr>\n",
       "  </tbody>\n",
       "</table>\n",
       "</div>"
      ],
      "text/plain": [
       "   ID                                 Dirección  Municipio       Pais  \\\n",
       "0   1  4 AVENIDA 06-63 CANTON EXPOSICION ZONA 4  Guatemala  Guatemala   \n",
       "1   2     RUTA 8 04-51 CANTON EXPOSICION ZONA 4  Guatemala  Guatemala   \n",
       "2   3       2 CALLE 11-12 BARRIO MODERNO ZONA 2  Guatemala  Guatemala   \n",
       "3   4  4 AVENIDA 06-63 CANTON EXPOSICION ZONA 4  Guatemala  Guatemala   \n",
       "4   5     RUTA 8 04-51 CANTON EXPOSICION ZONA 4  Guatemala  Guatemala   \n",
       "5   6       2 CALLE 11-12 BARRIO MODERNO ZONA 2  Guatemala  Guatemala   \n",
       "6   7  4 AVENIDA 06-63 CANTON EXPOSICION ZONA 4  Guatemala  Guatemala   \n",
       "7   8     RUTA 8 04-51 CANTON EXPOSICION ZONA 4  Guatemala  Guatemala   \n",
       "8   9       2 CALLE 11-12 BARRIO MODERNO ZONA 2  Guatemala  Guatemala   \n",
       "\n",
       "                                     Direccion Total    latitud   longitud  \\\n",
       "0  4 AVENIDA 06-63 CANTON EXPOSICION ZONA 4, Guat...  14.619441 -90.517243   \n",
       "1  RUTA 8 04-51 CANTON EXPOSICION ZONA 4, Guatema...  14.619441 -90.517243   \n",
       "2  2 CALLE 11-12 BARRIO MODERNO ZONA 2, Guatemala...  14.648776 -90.506982   \n",
       "3  4 AVENIDA 06-63 CANTON EXPOSICION ZONA 4, Guat...  14.619441 -90.517243   \n",
       "4  RUTA 8 04-51 CANTON EXPOSICION ZONA 4, Guatema...  14.619441 -90.517243   \n",
       "5  2 CALLE 11-12 BARRIO MODERNO ZONA 2, Guatemala...  14.648776 -90.506982   \n",
       "6  4 AVENIDA 06-63 CANTON EXPOSICION ZONA 4, Guat...  14.619441 -90.517243   \n",
       "7  RUTA 8 04-51 CANTON EXPOSICION ZONA 4, Guatema...  14.619441 -90.517243   \n",
       "8  2 CALLE 11-12 BARRIO MODERNO ZONA 2, Guatemala...  14.648776 -90.506982   \n",
       "\n",
       "                 direccion supuesta  \n",
       "0                 Zona 4, Guatemala  \n",
       "1                 Zona 4, Guatemala  \n",
       "2  2 Calle 11-12, Zona 2, Guatemala  \n",
       "3                 Zona 4, Guatemala  \n",
       "4                 Zona 4, Guatemala  \n",
       "5  2 Calle 11-12, Zona 2, Guatemala  \n",
       "6                 Zona 4, Guatemala  \n",
       "7                 Zona 4, Guatemala  \n",
       "8  2 Calle 11-12, Zona 2, Guatemala  "
      ]
     },
     "execution_count": 20,
     "metadata": {},
     "output_type": "execute_result"
    }
   ],
   "source": [
    "db1[\"latitud\"] = lat\n",
    "db1[\"longitud\"] = lon\n",
    "db1[\"direccion supuesta\"] = addres_geocode\n",
    "db1"
   ]
  },
  {
   "cell_type": "code",
   "execution_count": 21,
   "metadata": {},
   "outputs": [],
   "source": [
    "import geopandas as gpd\n",
    "from shapely.geometry import Point\n",
    "\n",
    "geometry = [Point(xy) for xy in zip(db1.longitud, db1.latitud)]\n",
    "df = db1.drop(['longitud', 'latitud'], axis=1)\n",
    "crs = {'init': 'epsg:4326'}\n",
    "gdf = gpd.GeoDataFrame(df, crs=crs, geometry=geometry)"
   ]
  },
  {
   "cell_type": "code",
   "execution_count": 22,
   "metadata": {},
   "outputs": [
    {
     "data": {
      "text/html": [
       "<div>\n",
       "<style>\n",
       "    .dataframe thead tr:only-child th {\n",
       "        text-align: right;\n",
       "    }\n",
       "\n",
       "    .dataframe thead th {\n",
       "        text-align: left;\n",
       "    }\n",
       "\n",
       "    .dataframe tbody tr th {\n",
       "        vertical-align: top;\n",
       "    }\n",
       "</style>\n",
       "<table border=\"1\" class=\"dataframe\">\n",
       "  <thead>\n",
       "    <tr style=\"text-align: right;\">\n",
       "      <th></th>\n",
       "      <th>ID</th>\n",
       "      <th>Dirección</th>\n",
       "      <th>Municipio</th>\n",
       "      <th>Pais</th>\n",
       "      <th>Direccion Total</th>\n",
       "      <th>direccion supuesta</th>\n",
       "      <th>geometry</th>\n",
       "    </tr>\n",
       "  </thead>\n",
       "  <tbody>\n",
       "    <tr>\n",
       "      <th>0</th>\n",
       "      <td>1</td>\n",
       "      <td>4 AVENIDA 06-63 CANTON EXPOSICION ZONA 4</td>\n",
       "      <td>Guatemala</td>\n",
       "      <td>Guatemala</td>\n",
       "      <td>4 AVENIDA 06-63 CANTON EXPOSICION ZONA 4, Guat...</td>\n",
       "      <td>Zona 4, Guatemala</td>\n",
       "      <td>POINT (-90.51724272899997 14.61944062100002)</td>\n",
       "    </tr>\n",
       "    <tr>\n",
       "      <th>1</th>\n",
       "      <td>2</td>\n",
       "      <td>RUTA 8 04-51 CANTON EXPOSICION ZONA 4</td>\n",
       "      <td>Guatemala</td>\n",
       "      <td>Guatemala</td>\n",
       "      <td>RUTA 8 04-51 CANTON EXPOSICION ZONA 4, Guatema...</td>\n",
       "      <td>Zona 4, Guatemala</td>\n",
       "      <td>POINT (-90.51724272899997 14.61944062100002)</td>\n",
       "    </tr>\n",
       "    <tr>\n",
       "      <th>2</th>\n",
       "      <td>3</td>\n",
       "      <td>2 CALLE 11-12 BARRIO MODERNO ZONA 2</td>\n",
       "      <td>Guatemala</td>\n",
       "      <td>Guatemala</td>\n",
       "      <td>2 CALLE 11-12 BARRIO MODERNO ZONA 2, Guatemala...</td>\n",
       "      <td>2 Calle 11-12, Zona 2, Guatemala</td>\n",
       "      <td>POINT (-90.50698208676596 14.64877630891364)</td>\n",
       "    </tr>\n",
       "    <tr>\n",
       "      <th>3</th>\n",
       "      <td>4</td>\n",
       "      <td>4 AVENIDA 06-63 CANTON EXPOSICION ZONA 4</td>\n",
       "      <td>Guatemala</td>\n",
       "      <td>Guatemala</td>\n",
       "      <td>4 AVENIDA 06-63 CANTON EXPOSICION ZONA 4, Guat...</td>\n",
       "      <td>Zona 4, Guatemala</td>\n",
       "      <td>POINT (-90.51724272899997 14.61944062100002)</td>\n",
       "    </tr>\n",
       "    <tr>\n",
       "      <th>4</th>\n",
       "      <td>5</td>\n",
       "      <td>RUTA 8 04-51 CANTON EXPOSICION ZONA 4</td>\n",
       "      <td>Guatemala</td>\n",
       "      <td>Guatemala</td>\n",
       "      <td>RUTA 8 04-51 CANTON EXPOSICION ZONA 4, Guatema...</td>\n",
       "      <td>Zona 4, Guatemala</td>\n",
       "      <td>POINT (-90.51724272899997 14.61944062100002)</td>\n",
       "    </tr>\n",
       "    <tr>\n",
       "      <th>5</th>\n",
       "      <td>6</td>\n",
       "      <td>2 CALLE 11-12 BARRIO MODERNO ZONA 2</td>\n",
       "      <td>Guatemala</td>\n",
       "      <td>Guatemala</td>\n",
       "      <td>2 CALLE 11-12 BARRIO MODERNO ZONA 2, Guatemala...</td>\n",
       "      <td>2 Calle 11-12, Zona 2, Guatemala</td>\n",
       "      <td>POINT (-90.50698208676596 14.64877630891364)</td>\n",
       "    </tr>\n",
       "    <tr>\n",
       "      <th>6</th>\n",
       "      <td>7</td>\n",
       "      <td>4 AVENIDA 06-63 CANTON EXPOSICION ZONA 4</td>\n",
       "      <td>Guatemala</td>\n",
       "      <td>Guatemala</td>\n",
       "      <td>4 AVENIDA 06-63 CANTON EXPOSICION ZONA 4, Guat...</td>\n",
       "      <td>Zona 4, Guatemala</td>\n",
       "      <td>POINT (-90.51724272899997 14.61944062100002)</td>\n",
       "    </tr>\n",
       "    <tr>\n",
       "      <th>7</th>\n",
       "      <td>8</td>\n",
       "      <td>RUTA 8 04-51 CANTON EXPOSICION ZONA 4</td>\n",
       "      <td>Guatemala</td>\n",
       "      <td>Guatemala</td>\n",
       "      <td>RUTA 8 04-51 CANTON EXPOSICION ZONA 4, Guatema...</td>\n",
       "      <td>Zona 4, Guatemala</td>\n",
       "      <td>POINT (-90.51724272899997 14.61944062100002)</td>\n",
       "    </tr>\n",
       "    <tr>\n",
       "      <th>8</th>\n",
       "      <td>9</td>\n",
       "      <td>2 CALLE 11-12 BARRIO MODERNO ZONA 2</td>\n",
       "      <td>Guatemala</td>\n",
       "      <td>Guatemala</td>\n",
       "      <td>2 CALLE 11-12 BARRIO MODERNO ZONA 2, Guatemala...</td>\n",
       "      <td>2 Calle 11-12, Zona 2, Guatemala</td>\n",
       "      <td>POINT (-90.50698208676596 14.64877630891364)</td>\n",
       "    </tr>\n",
       "  </tbody>\n",
       "</table>\n",
       "</div>"
      ],
      "text/plain": [
       "   ID                                 Dirección  Municipio       Pais  \\\n",
       "0   1  4 AVENIDA 06-63 CANTON EXPOSICION ZONA 4  Guatemala  Guatemala   \n",
       "1   2     RUTA 8 04-51 CANTON EXPOSICION ZONA 4  Guatemala  Guatemala   \n",
       "2   3       2 CALLE 11-12 BARRIO MODERNO ZONA 2  Guatemala  Guatemala   \n",
       "3   4  4 AVENIDA 06-63 CANTON EXPOSICION ZONA 4  Guatemala  Guatemala   \n",
       "4   5     RUTA 8 04-51 CANTON EXPOSICION ZONA 4  Guatemala  Guatemala   \n",
       "5   6       2 CALLE 11-12 BARRIO MODERNO ZONA 2  Guatemala  Guatemala   \n",
       "6   7  4 AVENIDA 06-63 CANTON EXPOSICION ZONA 4  Guatemala  Guatemala   \n",
       "7   8     RUTA 8 04-51 CANTON EXPOSICION ZONA 4  Guatemala  Guatemala   \n",
       "8   9       2 CALLE 11-12 BARRIO MODERNO ZONA 2  Guatemala  Guatemala   \n",
       "\n",
       "                                     Direccion Total  \\\n",
       "0  4 AVENIDA 06-63 CANTON EXPOSICION ZONA 4, Guat...   \n",
       "1  RUTA 8 04-51 CANTON EXPOSICION ZONA 4, Guatema...   \n",
       "2  2 CALLE 11-12 BARRIO MODERNO ZONA 2, Guatemala...   \n",
       "3  4 AVENIDA 06-63 CANTON EXPOSICION ZONA 4, Guat...   \n",
       "4  RUTA 8 04-51 CANTON EXPOSICION ZONA 4, Guatema...   \n",
       "5  2 CALLE 11-12 BARRIO MODERNO ZONA 2, Guatemala...   \n",
       "6  4 AVENIDA 06-63 CANTON EXPOSICION ZONA 4, Guat...   \n",
       "7  RUTA 8 04-51 CANTON EXPOSICION ZONA 4, Guatema...   \n",
       "8  2 CALLE 11-12 BARRIO MODERNO ZONA 2, Guatemala...   \n",
       "\n",
       "                 direccion supuesta  \\\n",
       "0                 Zona 4, Guatemala   \n",
       "1                 Zona 4, Guatemala   \n",
       "2  2 Calle 11-12, Zona 2, Guatemala   \n",
       "3                 Zona 4, Guatemala   \n",
       "4                 Zona 4, Guatemala   \n",
       "5  2 Calle 11-12, Zona 2, Guatemala   \n",
       "6                 Zona 4, Guatemala   \n",
       "7                 Zona 4, Guatemala   \n",
       "8  2 Calle 11-12, Zona 2, Guatemala   \n",
       "\n",
       "                                       geometry  \n",
       "0  POINT (-90.51724272899997 14.61944062100002)  \n",
       "1  POINT (-90.51724272899997 14.61944062100002)  \n",
       "2  POINT (-90.50698208676596 14.64877630891364)  \n",
       "3  POINT (-90.51724272899997 14.61944062100002)  \n",
       "4  POINT (-90.51724272899997 14.61944062100002)  \n",
       "5  POINT (-90.50698208676596 14.64877630891364)  \n",
       "6  POINT (-90.51724272899997 14.61944062100002)  \n",
       "7  POINT (-90.51724272899997 14.61944062100002)  \n",
       "8  POINT (-90.50698208676596 14.64877630891364)  "
      ]
     },
     "execution_count": 22,
     "metadata": {},
     "output_type": "execute_result"
    }
   ],
   "source": [
    "gdf"
   ]
  },
  {
   "cell_type": "code",
   "execution_count": 23,
   "metadata": {},
   "outputs": [
    {
     "data": {
      "text/plain": [
       "<matplotlib.axes._subplots.AxesSubplot at 0x1de31107dd8>"
      ]
     },
     "execution_count": 23,
     "metadata": {},
     "output_type": "execute_result"
    },
    {
     "data": {
      "image/png": "[encoded data removed]",
      "text/plain": [
       "<matplotlib.figure.Figure at 0x1de308f8f98>"
      ]
     },
     "metadata": {},
     "output_type": "display_data"
    }
   ],
   "source": [
    "import matplotlib.pyplot as plt\n",
    "%matplotlib inline\n",
    "gdf.plot()"
   ]
  },
  {
   "cell_type": "code",
   "execution_count": null,
   "metadata": {},
   "outputs": [],
   "source": []
  },
  {
   "cell_type": "code",
   "execution_count": null,
   "metadata": {},
   "outputs": [],
   "source": []
  },
  {
   "cell_type": "code",
   "execution_count": null,
   "metadata": {},
   "outputs": [],
   "source": []
  },
  {
   "cell_type": "code",
   "execution_count": null,
   "metadata": {},
   "outputs": [],
   "source": []
  },
  {
   "cell_type": "code",
   "execution_count": null,
   "metadata": {},
   "outputs": [],
   "source": []
  },
  {
   "cell_type": "code",
   "execution_count": null,
   "metadata": {},
   "outputs": [],
   "source": []
  }
 ],
 "metadata": {
  "kernelspec": {
   "display_name": "Python 3",
   "language": "python",
   "name": "python3"
  },
  "language_info": {
   "codemirror_mode": {
    "name": "ipython",
    "version": 3
   },
   "file_extension": ".py",
   "mimetype": "text/x-python",
   "name": "python",
   "nbconvert_exporter": "python",
   "pygments_lexer": "ipython3",
   "version": "3.6.2"
  }
 },
 "nbformat": 4,
 "nbformat_minor": 2
}
